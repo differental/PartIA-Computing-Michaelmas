{
 "cells": [
  {
   "cell_type": "markdown",
   "metadata": {
    "nbgrader": {
     "grade": false,
     "grade_id": "cell-7b3313f25bceb7a2",
     "locked": true,
     "schema_version": 3,
     "solution": false
    }
   },
   "source": [
    "## Exercise 06.1 (selecting and passing data structures)\n",
    "\n",
    "The task in Exercise 04 for computing the area of a triangle involved a function with six arguments ($x$ and $y$ components of each vertex). With six arguments, the likelihood of a user passing arguments in the wrong order is high. \n",
    "\n",
    "Use an appropriate data structure, e.g. a `list`, `tuple`, `dict`, etc, to develop a new version of the function with an improved interface (the interface is the arguments that are passed to the function) with fewer arguments. Add appropriate checks inside your function on the input data."
   ]
  },
  {
   "cell_type": "code",
   "execution_count": 7,
   "metadata": {
    "nbgrader": {
     "grade": false,
     "grade_id": "cell-50c4566d7bcbffaf",
     "locked": false,
     "schema_version": 3,
     "solution": true
    },
    "tags": []
   },
   "outputs": [],
   "source": [
    "import math\n",
    "def area(a, b, c):\n",
    "    if not (len(a)==2 and len(b)==2 and len(c)==2):\n",
    "        print(\"Error: Input format incorrect\")\n",
    "        return 0\n",
    "    if a==b or b==c or c==a:\n",
    "        print(\"Error: Same points detected\")\n",
    "        return 0\n",
    "    area = abs(a[0]*(b[1]-c[1])+b[0]*(c[1]-a[1])+c[0]*(a[1]-b[1]))/2\n",
    "    if area == 0:\n",
    "        print(\"Error: Area is zero\")\n",
    "    return area\n",
    "\n",
    "## tests ##\n",
    "a = [0.0, 0.0]\n",
    "b = [0.0, 2.0]\n",
    "c = [3.0, 0.0]\n",
    "A = area(a, b, c)\n",
    "assert math.isclose(A, 3.0)"
   ]
  },
  {
   "cell_type": "markdown",
   "metadata": {
    "nbgrader": {
     "grade": false,
     "grade_id": "cell-5065052af9989fdf",
     "locked": true,
     "schema_version": 3,
     "solution": false
    }
   },
   "source": [
    "## Exercise 06.2 (selecting data structures)\n",
    "\n",
    "For a simple (non-intersecting) polygon with $n$ vertices, $(x_0, y_0)$, $(x_1, y_1)$, . . , $(x_{n-1}, y_{n-1})$, the area $A$ is given by\n",
    "$$\n",
    "A = \\left| \\frac{1}{2} \\sum_{i=0}^{n-1} \\left(x_{i} y _{i+1} - x_{i+1} y_{i} \\right) \\right|\n",
    "$$\n",
    "and where $(x_n, y_n) = (x_0, y_0)$. The vertices should be ordered as you move around the polygon.\n",
    "\n",
    "Write a function that, given only the vertex coordinates, computes the area of a simple polygon. Test your function for some simple shapes. Pay careful attention to the range of any loops. **Test for polygons without a vertex at the origin.**"
   ]
  },
  {
   "cell_type": "code",
   "execution_count": 15,
   "metadata": {
    "nbgrader": {
     "grade": false,
     "grade_id": "cell-4b5a619405787746",
     "locked": false,
     "schema_version": 3,
     "solution": true
    },
    "tags": []
   },
   "outputs": [],
   "source": [
    "def area_of_polygon(*args):\n",
    "    x = []\n",
    "    y = []\n",
    "    area = 0\n",
    "    for i in range(len(args)):\n",
    "        x.append(args[i][0])\n",
    "        y.append(args[i][1])\n",
    "    x.append(x[0]) # as the \"n+1 th\" vertex\n",
    "    y.append(y[0]) # as the \"n+1 th\" vertex\n",
    "    #print(x, y)\n",
    "    for i in range(len(args)):\n",
    "        area+=(x[i] * y[i+1] - x[i+1] * y[i])\n",
    "    return abs(area)/2\n",
    "\n",
    "# test\n",
    "\n",
    "A = [1, 2]\n",
    "B = [2, 3]\n",
    "C = [0, 1]\n",
    "assert area_of_polygon(A, B, C) == 0\n",
    "\n",
    "A = [0.0, 0.0]\n",
    "B = [0.0, 2.0]\n",
    "C = [3.0, 2.0]\n",
    "D = [3.0, 0.0]\n",
    "assert area_of_polygon(A, B, C, D) == 6.0\n",
    "\n",
    "A = [1.0, 1.0]\n",
    "B = [1.0, 3.0]\n",
    "C = [4.0, 3.0]\n",
    "D = [4.0, 1.0]\n",
    "assert area_of_polygon(A, B, C, D) == 6.0"
   ]
  },
  {
   "cell_type": "markdown",
   "metadata": {
    "nbgrader": {
     "grade": false,
     "grade_id": "cell-ced99a38c7bbe7a0",
     "locked": true,
     "schema_version": 3,
     "solution": false
    }
   },
   "source": [
    "## Exercise 06.3 (indexing)\n",
    "\n",
    "Write a function that uses list indexing to add two vectors of arbitrary length, and returns the new vector. Include a check that the vector sizes match. Print a warning message if there is a size mismatch. The more error information you provide, the easier it would be for someone using your function to debug their code.\n",
    "\n",
    "Add some tests of your code.\n",
    "\n",
    "#### Hint: You can create a list of zeros of length `n` by\n",
    "\n",
    "    z = [0]*n"
   ]
  },
  {
   "cell_type": "code",
   "execution_count": 21,
   "metadata": {
    "nbgrader": {
     "grade": false,
     "grade_id": "cell-47daca03f7a96b62",
     "locked": false,
     "schema_version": 3,
     "solution": true
    },
    "tags": []
   },
   "outputs": [],
   "source": [
    "def sum_vector(x, y):\n",
    "    if not len(x)==len(y):\n",
    "        print(\"MISMATCH\")\n",
    "        return 0\n",
    "    return [x[i]+y[i] for i in range(len(x))]\n",
    "\n",
    "# tests ##\n",
    "a = [0, 4.3, -5, 7]\n",
    "b = [-2, 7, -15, 1]\n",
    "c = sum_vector(a, b)\n",
    "assert c == [-2, 11.3, -20, 8]"
   ]
  },
  {
   "cell_type": "code",
   "execution_count": null,
   "metadata": {
    "nbgrader": {
     "grade": true,
     "grade_id": "cell-95f5819810d2b2c7",
     "locked": true,
     "points": 0,
     "schema_version": 3,
     "solution": false
    }
   },
   "outputs": [],
   "source": [
    "# tests ##\n",
    "a = [0, 4.3, -5, 7]\n",
    "b = [-2, 7, -15, 1]\n",
    "c = sum_vector(a, b)\n",
    "assert c == [-2, 11.3, -20, 8]"
   ]
  },
  {
   "cell_type": "markdown",
   "metadata": {},
   "source": [
    "### Optional (advanced) \n",
    "\n",
    "Try writing a one-line version that performs the `sum_vector` operation using list comprehension and the built-in function [`zip`](https://docs.python.org/3/library/functions.html#zip)."
   ]
  },
  {
   "cell_type": "code",
   "execution_count": 28,
   "metadata": {
    "nbgrader": {
     "grade": true,
     "grade_id": "cell-c182b3f0d8952692",
     "locked": false,
     "points": 0,
     "schema_version": 3,
     "solution": true
    },
    "tags": []
   },
   "outputs": [
    {
     "data": {
      "text/plain": [
       "[-2, 11.3, -20, 8]"
      ]
     },
     "execution_count": 28,
     "metadata": {},
     "output_type": "execute_result"
    }
   ],
   "source": [
    "def sum_vector(x, y): return list(sum(i) for i in zip(x, y)) if len(x)==len(y) else \"MISMATCH\"\n",
    "\n",
    "# test\n",
    "a = [0, 4.3, -5, 7]\n",
    "b = [-2, 7, -15, 1]\n",
    "sum_vector(a, b)"
   ]
  },
  {
   "cell_type": "markdown",
   "metadata": {},
   "source": [
    "## Exercise 06.4 (dictionaries)\n",
    "\n",
    "Create a dictionary that maps college names (the key) to college abbreviations for at least 5 colleges\n",
    "(you can find abbreviations at https://en.wikipedia.org/wiki/Colleges_of_the_University_of_Cambridge#Colleges).\n",
    "From the dictionary, produce and print\n",
    "\n",
    "1. A Python dictionary from college abbreviation to name; and\n",
    "1. A Python list of college abbreviations sorted into alphabetical order.\n",
    "\n",
    "*Optional extension:* Create a dictionary that maps college names (the key) to dictionaries of:\n",
    "\n",
    "- College abbreviation\n",
    "- Year of foundation \n",
    "- Total number students\n",
    " \n",
    "for at least 5 colleges. Take the data from https://en.wikipedia.org/wiki/Colleges_of_the_University_of_Cambridge#Colleges. Using this dictionary, \n",
    "\n",
    "1. Find the college with the greatest number of students and print the abbreviation; and \n",
    "2. Find the oldest college, and print the number of students and the abbreviation for this college."
   ]
  },
  {
   "cell_type": "code",
   "execution_count": 35,
   "metadata": {
    "nbgrader": {
     "grade": false,
     "grade_id": "cell-bc271dc3885e19c5",
     "locked": false,
     "schema_version": 3,
     "solution": true
    },
    "tags": []
   },
   "outputs": [
    {
     "name": "stdout",
     "output_type": "stream",
     "text": [
      "{'T': 'Trinity', 'CHR': \"Christ's\", 'CHU': 'Churchill', 'CL': 'Clare', 'CLH': 'Clare Hall', 'CC': 'Corpus Christi', 'DAR': 'Darwin', 'DOW': 'Downing', 'EM': 'Emmanuel', 'F': 'Fitzwilliam', 'G': 'Girton', 'CAI': 'Gonville and Caius', 'HO': 'Homerton', 'HH': 'Hughes Hall', 'JE': 'Jesus', 'K': \"King's\", 'LC': 'Lucy Cavendish', 'M': 'Magdalene', 'MUR': 'Murray Edwards', 'N': 'Newnham', 'PEM': 'Pembroke', 'PET': 'Peterhouse', 'Q': \"Queens'\", 'R': 'Robinson', 'CTH': \"St Catharine's\", 'ED': \"St Edmund's\", 'SE': 'Selwyn', 'SID': 'Sidney Sussex', 'TH': 'Trinity Hall', 'W': 'Wolfson'}\n",
      "['CAI', 'CC', 'CHR', 'CHU', 'CL', 'CLH', 'CTH', 'DAR', 'DOW', 'ED', 'EM', 'F', 'G', 'HH', 'HO', 'JE', 'K', 'LC', 'M', 'MUR', 'N', 'PEM', 'PET', 'Q', 'R', 'SE', 'SID', 'T', 'TH', 'W']\n"
     ]
    }
   ],
   "source": [
    "colleges = {\n",
    "    \"Trinity\": \"T\",\n",
    "    \"Christ's\": \"CHR\",\n",
    "    \"Churchill\": \"CHU\",\n",
    "    \"Clare\": \"CL\",\n",
    "    \"Clare Hall\": \"CLH\",\n",
    "    \"Corpus Christi\": \"CC\",\n",
    "    \"Darwin\": \"DAR\",\n",
    "    \"Downing\": \"DOW\",\n",
    "    \"Emmanuel\": \"EM\",\n",
    "    \"Fitzwilliam\": \"F\",\n",
    "    \"Girton\": \"G\",\n",
    "    \"Gonville and Caius\": \"CAI\",\n",
    "    \"Homerton\": \"HO\",\n",
    "    \"Hughes Hall\": \"HH\",\n",
    "    \"Jesus\": \"JE\",\n",
    "    \"King's\": \"K\",\n",
    "    \"Lucy Cavendish\": \"LC\",\n",
    "    \"Magdalene\": \"M\",\n",
    "    \"Murray Edwards\": \"MUR\",\n",
    "    \"Newnham\": \"N\",\n",
    "    \"Pembroke\": \"PEM\",\n",
    "    \"Peterhouse\": \"PET\",\n",
    "    \"Queens'\": \"Q\",\n",
    "    \"Robinson\": \"R\",\n",
    "    \"St Catharine's\": \"CTH\",\n",
    "    \"St Edmund's\": \"ED\",\n",
    "    #\"St John's\": \"JN\",\n",
    "    \"Selwyn\": \"SE\",\n",
    "    \"Sidney Sussex\": \"SID\",\n",
    "    \"Trinity Hall\": \"TH\",\n",
    "    \"Wolfson\": \"W\"\n",
    "}\n",
    "\n",
    "colleges_reverse = {}\n",
    "abbrevs = []\n",
    "\n",
    "for name,abbrev in colleges.items():\n",
    "    colleges_reverse[abbrev] = name\n",
    "    abbrevs.append(abbrev)\n",
    "\n",
    "print(colleges_reverse, sorted(abbrevs), sep=\"\\n\")"
   ]
  },
  {
   "cell_type": "markdown",
   "metadata": {
    "nbgrader": {
     "grade": false,
     "grade_id": "cell-45d2551a524193b0",
     "locked": true,
     "schema_version": 3,
     "solution": false
    }
   },
   "source": [
    "#### Optional extension"
   ]
  },
  {
   "cell_type": "code",
   "execution_count": null,
   "metadata": {
    "nbgrader": {
     "grade": false,
     "grade_id": "cell-7040c4053c72ce09",
     "locked": false,
     "schema_version": 3,
     "solution": true
    },
    "tags": []
   },
   "outputs": [],
   "source": [
    "..."
   ]
  }
 ],
 "metadata": {
  "celltoolbar": "Create Assignment",
  "kernelspec": {
   "display_name": "Python 3 (ipykernel)",
   "language": "python",
   "name": "python3"
  },
  "language_info": {
   "codemirror_mode": {
    "name": "ipython",
    "version": 3
   },
   "file_extension": ".py",
   "mimetype": "text/x-python",
   "name": "python",
   "nbconvert_exporter": "python",
   "pygments_lexer": "ipython3",
   "version": "3.11.5"
  },
  "otter": {
   "OK_FORMAT": true,
   "assignment_name": "Exercises 6",
   "tests": {}
  }
 },
 "nbformat": 4,
 "nbformat_minor": 4
}
